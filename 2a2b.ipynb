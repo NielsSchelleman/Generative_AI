{
 "cells": [
  {
   "cell_type": "code",
   "execution_count": 1,
   "id": "43410240",
   "metadata": {},
   "outputs": [],
   "source": [
    "from scipy.sparse.csgraph import minimum_spanning_tree as mst\n",
    "from scipy.sparse.csgraph import breadth_first_order as bfo\n",
    "from scipy.special import logsumexp\n",
    "import numpy as np\n",
    "import csv"
   ]
  },
  {
   "cell_type": "markdown",
   "id": "566ad88d",
   "metadata": {},
   "source": [
    "# Calcs mutual information"
   ]
  },
  {
   "cell_type": "code",
   "execution_count": 2,
   "id": "f42b7631",
   "metadata": {},
   "outputs": [],
   "source": [
    "\n",
    "def compute_mi(cols):\n",
    "    cols[:, 0] *= 2\n",
    "    names, occurs = np.unique(np.sum(cols, axis=1), return_counts=True)\n",
    "    namelen = len(names)\n",
    "    # if only 2 marginals, no mutual information can be shared\n",
    "    if namelen == 2:\n",
    "        return 0\n",
    "        # with three we need to put 1 of the functions to give a result of 0\n",
    "    if namelen == 3:\n",
    "        occurs = [occurs[i] if (i in names) else 0 for i in range(4)]\n",
    "\n",
    "    probs = np.log(occurs / sum(occurs))\n",
    "\n",
    "    px0 = logsumexp([probs[0], probs[1]])\n",
    "    px1 = logsumexp([probs[2], probs[3]])\n",
    "    py0 = logsumexp([probs[0], probs[2]])\n",
    "    py1 = logsumexp([probs[1], probs[3]])\n",
    "\n",
    "    if namelen == 4:\n",
    "        mi = np.exp(probs[0]) * (probs[0] - logsumexp([px0, py0])) + \\\n",
    "             np.exp(probs[1]) * (probs[1] - logsumexp([px0, py1])) + \\\n",
    "             np.exp(probs[2]) * (probs[2] - logsumexp([px1, py0])) + \\\n",
    "             np.exp(probs[3]) * (probs[3] - logsumexp([px1, py1]))\n",
    "\n",
    "    # results for one marginal being 0\n",
    "    else:\n",
    "        if probs[0] == 0:\n",
    "            p0 = 0\n",
    "        else:\n",
    "            p0 = np.exp(probs[0]) * (probs[0] - logsumexp([px0, py0]))\n",
    "\n",
    "        if probs[1] == 0:\n",
    "            p1 = 0\n",
    "        else:\n",
    "            p1 = np.exp(probs[1]) * (probs[1] - logsumexp([px0, py1]))\n",
    "\n",
    "        if probs[2] == 0:\n",
    "            p2 = 0\n",
    "        else:\n",
    "            p2 = np.exp(probs[2]) * (probs[2] - logsumexp([px1, py0]))\n",
    "\n",
    "        if probs[3] == 0:\n",
    "            p3 = 0\n",
    "        else:\n",
    "            p3 = np.exp(probs[3]) * (probs[3] - logsumexp([px1, py1]))\n",
    "        return p0 + p1 + p2 + p3\n",
    "    return mi"
   ]
  },
  {
   "cell_type": "markdown",
   "id": "a1480bb0",
   "metadata": {},
   "source": [
    "# Calcs the probabilities"
   ]
  },
  {
   "cell_type": "code",
   "execution_count": 3,
   "id": "5efe8ded",
   "metadata": {},
   "outputs": [],
   "source": [
    "def prob_col(col, val, alpha):\n",
    "    return np.log(2*alpha*len(col[col == val]))-np.log(4*alpha*len(col))\n",
    "\n",
    "\n",
    "def joint_prob_col(both_cols, val1, val2, alpha):\n",
    "    return np.log(alpha*len(both_cols[np.sum(both_cols == (val1, val2), axis=1) == 2]))-np.log(4*alpha*len(both_cols))\n",
    "\n",
    "\n",
    "def cond_prob_col(both_cols, vals, alpha):\n",
    "    return joint_prob_col(both_cols, vals[0], vals[1], alpha)-prob_col(both_cols[:, 0], vals[0], alpha)"
   ]
  },
  {
   "cell_type": "markdown",
   "id": "56e721af",
   "metadata": {},
   "source": [
    "# The actual class"
   ]
  },
  {
   "cell_type": "code",
   "execution_count": 5,
   "id": "f14c14aa",
   "metadata": {},
   "outputs": [],
   "source": [
    "class BinaryCLT:\n",
    "    def __init__(self, data, root: int = None, alpha: float = 0.01):\n",
    "        self.cols = data.shape[1]\n",
    "        self.data = data\n",
    "        self.root = root\n",
    "        self.alpha = alpha\n",
    "        self.tree = self.gettree()\n",
    "        self.pmfs = self.getlogparams()\n",
    "\n",
    "    def gettree(self):\n",
    "        # create the mutual information matrix\n",
    "        mi_matrix = np.array(\n",
    "            [[compute_mi(self.data[:, [i, j]]) if j > i else 0 for j in range(self.cols)] for i in range(self.cols)])\n",
    "        # invert the mutual information\n",
    "        # to get the maximum spanning tree by calculating the minimum spanning tree of the inverse\n",
    "        # exit the log domain as the inversion requires strict positivity\n",
    "        mi_matrix_inv = 1 / mi_matrix\n",
    "\n",
    "        mi_matrix_inv[mi_matrix_inv == np.inf] = 0\n",
    "        tree = mst(mi_matrix_inv)\n",
    "        # add connections to the tree in both directions\n",
    "        tree = tree.toarray().astype(float)\n",
    "        tree = tree.T + tree\n",
    "        if not self.root:\n",
    "            self.root = np.random.choice(range(0, self.cols))\n",
    "        clt = bfo(tree, self.root)\n",
    "        clt = clt[1]\n",
    "        clt[clt == -9999] = -1\n",
    "        return clt\n",
    "\n",
    "    def getlogparams(self):\n",
    "        pmfs = []\n",
    "        for i in range(self.cols):\n",
    "\n",
    "            if self.tree[i] == -1:\n",
    "                vals = [prob_col(self.data[:, i], j, self.alpha) for j in range(2)]\n",
    "                pmfs.append([[vals[0], vals[1]], [vals[0], vals[1]]])\n",
    "            else:\n",
    "                vals = [cond_prob_col(self.data[:, [i, self.tree[i]]], j, self.alpha) for j in\n",
    "                        [(0, 0), (0, 1), (1, 0), (1, 1)]]\n",
    "                pmfs.append([[vals[0], vals[1]], [vals[2], vals[3]]])\n",
    "        # multiply by 2 so every column adds up to 1\n",
    "        return pmfs + np.log(2)\n",
    "\n",
    "    # def logprob(self, x, exhaustive: bool = False):\n",
    "\n",
    "    # def sample(self, nsamples: int)"
   ]
  },
  {
   "cell_type": "markdown",
   "id": "24322338",
   "metadata": {},
   "source": [
    "# Runs the thing"
   ]
  },
  {
   "cell_type": "code",
   "execution_count": 6,
   "id": "506ed6d4",
   "metadata": {},
   "outputs": [
    {
     "name": "stdout",
     "output_type": "stream",
     "text": [
      "[[[-0.15248733 -1.95594879]\n",
      "  [-1.43703145 -0.27132608]]\n",
      "\n",
      " [[-0.03648379 -3.32907364]\n",
      "  [-0.44811359 -1.01841238]]\n",
      "\n",
      " [[-0.26420763 -1.46021695]\n",
      "  [-0.26420763 -1.46021695]]\n",
      "\n",
      " [[-0.20355576 -1.69186732]\n",
      "  [-1.59337381 -0.22720022]]\n",
      "\n",
      " [[-0.06372132 -2.78492763]\n",
      "  [-1.11394298 -0.39788701]]\n",
      "\n",
      " [[-0.0860395  -2.49566009]\n",
      "  [-1.03002662 -0.4416066 ]]\n",
      "\n",
      " [[-0.04623819 -3.09697917]\n",
      "  [-1.23700155 -0.34284703]]\n",
      "\n",
      " [[-0.02188314 -3.83296064]\n",
      "  [-0.85014745 -0.55748392]]\n",
      "\n",
      " [[-0.02842351 -3.57471662]\n",
      "  [-0.47990158 -0.96454731]]\n",
      "\n",
      " [[-0.00831807 -4.79348152]\n",
      "  [-0.16278659 -1.8956046 ]]\n",
      "\n",
      " [[-0.02371258 -3.75358244]\n",
      "  [-0.43168289 -1.04815288]]\n",
      "\n",
      " [[-0.00652405 -5.03552081]\n",
      "  [-0.261394   -1.46957811]]\n",
      "\n",
      " [[-0.01277797 -4.3664146 ]\n",
      "  [-0.6124374  -0.78094749]]\n",
      "\n",
      " [[-0.03786339 -3.29264247]\n",
      "  [-0.983091   -0.46864903]]\n",
      "\n",
      " [[-0.01456378 -4.2364907 ]\n",
      "  [-0.42245235 -1.06547974]]\n",
      "\n",
      " [[-0.10125034 -2.34035728]\n",
      "  [-0.85005648 -0.5575518 ]]]\n",
      "[ 2 15 -1  5 13  7  8  8 15 15 15 15 15 14 15  0]\n"
     ]
    },
    {
     "name": "stderr",
     "output_type": "stream",
     "text": [
      "<ipython-input-5-7cbb9a59ad04>:17: RuntimeWarning: divide by zero encountered in true_divide\n",
      "  mi_matrix_inv = 1 / mi_matrix\n"
     ]
    }
   ],
   "source": [
    "if __name__ == \"__main__\":\n",
    "    with open('nltcs.train.data', 'r') as file:\n",
    "        reader = csv.reader(file, delimiter=',')\n",
    "        dataset = np.array(list(reader)).astype(int)\n",
    "    mytree = BinaryCLT(dataset, 2)\n",
    "    print(mytree.pmfs)\n",
    "    print(mytree.tree)"
   ]
  },
  {
   "cell_type": "code",
   "execution_count": null,
   "id": "f75b2aff",
   "metadata": {},
   "outputs": [],
   "source": []
  }
 ],
 "metadata": {
  "kernelspec": {
   "display_name": "Python 3",
   "language": "python",
   "name": "python3"
  },
  "language_info": {
   "codemirror_mode": {
    "name": "ipython",
    "version": 3
   },
   "file_extension": ".py",
   "mimetype": "text/x-python",
   "name": "python",
   "nbconvert_exporter": "python",
   "pygments_lexer": "ipython3",
   "version": "3.8.8"
  }
 },
 "nbformat": 4,
 "nbformat_minor": 5
}
