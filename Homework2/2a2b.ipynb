{
 "cells": [
  {
   "cell_type": "code",
   "execution_count": 44,
   "id": "2b26184e",
   "metadata": {},
   "outputs": [],
   "source": [
    "from scipy.sparse.csgraph import minimum_spanning_tree as mst\n",
    "from scipy.sparse.csgraph import breadth_first_order as bfo\n",
    "from scipy.special import logsumexp\n",
    "import numpy as np\n",
    "import csv"
   ]
  },
  {
   "cell_type": "markdown",
   "id": "a9024070",
   "metadata": {},
   "source": [
    "# Calcs mutual information"
   ]
  },
  {
   "cell_type": "code",
   "execution_count": 88,
   "id": "2ac8af56",
   "metadata": {},
   "outputs": [],
   "source": [
    "def prob_col(col, val, alpha):\n",
    "    return np.log(2*alpha+len(col[col == val]))-np.log(4*alpha+len(col))\n",
    "\n",
    "\n",
    "def joint_prob_col(both_cols, val1, val2, alpha):\n",
    "    return np.log(alpha+len(both_cols[np.sum(both_cols == (val1, val2), axis=1) == 2]))-np.log(4*alpha+len(both_cols))\n",
    "\n",
    "\n",
    "def cond_prob_col(both_cols, vals, alpha):\n",
    "    return joint_prob_col(both_cols, vals[0], vals[1], alpha)-prob_col(both_cols[:, 1], vals[1], alpha)"
   ]
  },
  {
   "cell_type": "code",
   "execution_count": 71,
   "id": "17d455e8",
   "metadata": {},
   "outputs": [],
   "source": [
    "def compute_partial_mi(cols, i, j, alpha):\n",
    "    logjoint = joint_prob_col(cols, i,j, alpha)\n",
    "    logpx = prob_col(cols[:, 0],i,alpha)\n",
    "    logpy = prob_col(cols[:, 1],j,alpha)\n",
    "    return np.exp(logjoint)*(logjoint-(logpx+logpy))"
   ]
  },
  {
   "cell_type": "code",
   "execution_count": 74,
   "id": "58ff2eb6",
   "metadata": {},
   "outputs": [],
   "source": [
    "def compute_mi(cols,alpha):\n",
    "    #cols[:, 0] *= 2\n",
    "    names, occurs = np.unique(np.sum(cols, axis=1), return_counts=True)\n",
    "    namelen = len(names)\n",
    "    # if only 2 marginals, variables must be independent so mutual information = 0\n",
    "    if namelen == 2:\n",
    "        return 0\n",
    "    # need to add a 0 as it is not counted when there are none\n",
    "    if namelen == 3:\n",
    "        occurs = np.insert(occurs.astype('float'), np.argmin(np.isin([0,1,2,3], names)),0)\n",
    "        \n",
    "    #calculate the partial mi  \n",
    "    mi = sum([compute_partial_mi(cols, i, j, alpha) for i in range(2) for j in range(2)])\n",
    " \n",
    "    \n",
    "    \n",
    "    return np.log(mi)"
   ]
  },
  {
   "cell_type": "markdown",
   "id": "7d8403d2",
   "metadata": {},
   "source": [
    "# Calcs the probabilities"
   ]
  },
  {
   "cell_type": "markdown",
   "id": "c82c2fd4",
   "metadata": {},
   "source": [
    "# The actual class"
   ]
  },
  {
   "cell_type": "code",
   "execution_count": 102,
   "id": "fd124b02",
   "metadata": {},
   "outputs": [],
   "source": [
    "class BinaryCLT:\n",
    "    def __init__(self, data, root: int = None, alpha: float = 0.01):\n",
    "        self.cols = data.shape[1]\n",
    "        self.data = data\n",
    "        self.root = root\n",
    "        self.alpha = alpha\n",
    "        self.tree = self.gettree()\n",
    "        self.pmfs = self.getlogparams()\n",
    "\n",
    "    def gettree(self):\n",
    "        # create the mutual information matrix\n",
    "        mi_matrix = np.array(\n",
    "            [[compute_mi(self.data[:, [i, j]],self.alpha) if j > i else 0 for j in range(self.cols)] for i in range(self.cols)])\n",
    "        # invert the mutual information\n",
    "        # to get the maximum spanning tree by calculating the minimum spanning tree of the inverse\n",
    "\n",
    "        tree = mst(-mi_matrix)\n",
    "        # add connections to the tree in both directions\n",
    "        tree = tree.toarray().astype(float)\n",
    "        tree = tree.T + tree\n",
    "        if not self.root:\n",
    "            self.root = np.random.choice(range(0, self.cols))\n",
    "        clt = bfo(tree, self.root)\n",
    "        clt = clt[1]\n",
    "        clt[clt == -9999] = -1\n",
    "        return clt\n",
    "\n",
    "    def getlogparams(self):\n",
    "        pmfs = []\n",
    "        for i in range(self.cols):\n",
    "\n",
    "            if self.tree[i] == -1:\n",
    "                vals = [prob_col(self.data[:, i], j, self.alpha) for j in range(2)]\n",
    "                pmfs.append([[vals[0], vals[1]], [vals[0], vals[1]]])\n",
    "            else:\n",
    "                vals = [cond_prob_col(self.data[:, [i, self.tree[i]]], j, self.alpha) for j in\n",
    "                        [(0, 0), (1, 0), (0, 1), (1, 1)]]\n",
    "                pmfs.append([[vals[0], vals[1]], [vals[2], vals[3]]])\n",
    "\n",
    "        return np.array(pmfs)\n",
    "\n",
    "    # def logprob(self, x, exhaustive: bool = False):\n",
    "\n",
    "    # def sample(self, nsamples: int)"
   ]
  },
  {
   "cell_type": "markdown",
   "id": "23af8a29",
   "metadata": {},
   "source": [
    "# Runs the thing"
   ]
  },
  {
   "cell_type": "code",
   "execution_count": 103,
   "id": "dc924375",
   "metadata": {
    "scrolled": true
   },
   "outputs": [
    {
     "name": "stdout",
     "output_type": "stream",
     "text": [
      "[[[-0.04629084 -3.09586733]\n",
      "  [-0.65374242 -0.7341686 ]]\n",
      "\n",
      " [[-0.08514189 -2.50570499]\n",
      "  [-0.87785954 -0.53729228]]\n",
      "\n",
      " [[-0.26420849 -1.4602141 ]\n",
      "  [-0.26420849 -1.4602141 ]]\n",
      "\n",
      " [[-0.21637736 -1.63696999]\n",
      "  [-1.64768811 -0.21380532]]\n",
      "\n",
      " [[-0.36397099 -1.1871529 ]\n",
      "  [-2.68473667 -0.07067911]]\n",
      "\n",
      " [[-0.31299803 -1.31397873]\n",
      "  [-2.12432577 -0.12728071]]\n",
      "\n",
      " [[-0.14277343 -2.01703383]\n",
      "  [-1.12149374 -0.39421777]]\n",
      "\n",
      " [[-0.18551196 -1.77595836]\n",
      "  [-2.17196823 -0.12098541]]\n",
      "\n",
      " [[-0.04623899 -3.09696239]\n",
      "  [-1.23699809 -0.34284844]]\n",
      "\n",
      " [[-0.72476915 -0.66249458]\n",
      "  [-3.76479366 -0.02344509]]\n",
      "\n",
      " [[-0.10575824 -2.29901265]\n",
      "  [-1.02686311 -0.44336732]]\n",
      "\n",
      " [[-0.34527636 -1.23108591]\n",
      "  [-2.16320683 -0.12211779]]\n",
      "\n",
      " [[-0.09057788 -2.44649241]\n",
      "  [-1.01981627 -0.44732076]]\n",
      "\n",
      " [[-0.23140666 -1.57705179]\n",
      "  [-2.50844619 -0.08489864]]\n",
      "\n",
      " [[-0.15478766 -1.94209675]\n",
      "  [-1.47998337 -0.25830642]]\n",
      "\n",
      " [[-0.01277874 -4.36635481]\n",
      "  [-0.61243786 -0.78094694]]]\n",
      "[ 2  6 -1  5 13  7  2  6  6  7 14 10  8 14 12 12]\n"
     ]
    }
   ],
   "source": [
    "with open('nltcs.train.data', 'r') as file:\n",
    "    reader = csv.reader(file, delimiter=',')\n",
    "    dataset = np.array(list(reader)).astype(int)\n",
    "mytree = BinaryCLT(dataset, 2)\n",
    "print(mytree.pmfs)\n",
    "print(mytree.tree)"
   ]
  }
 ],
 "metadata": {
  "kernelspec": {
   "display_name": "Python 3",
   "language": "python",
   "name": "python3"
  },
  "language_info": {
   "codemirror_mode": {
    "name": "ipython",
    "version": 3
   },
   "file_extension": ".py",
   "mimetype": "text/x-python",
   "name": "python",
   "nbconvert_exporter": "python",
   "pygments_lexer": "ipython3",
   "version": "3.8.8"
  }
 },
 "nbformat": 4,
 "nbformat_minor": 5
}
