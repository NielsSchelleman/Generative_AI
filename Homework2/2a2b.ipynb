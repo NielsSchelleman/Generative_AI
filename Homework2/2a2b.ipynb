{
 "cells": [
  {
   "cell_type": "code",
   "execution_count": 104,
   "id": "2b26184e",
   "metadata": {},
   "outputs": [],
   "source": [
    "from scipy.sparse.csgraph import minimum_spanning_tree as mst\n",
    "from scipy.sparse.csgraph import breadth_first_order as bfo\n",
    "from scipy.special import logsumexp\n",
    "import numpy as np\n",
    "import csv"
   ]
  },
  {
   "cell_type": "markdown",
   "id": "a9024070",
   "metadata": {},
   "source": [
    "# Calcs mutual information"
   ]
  },
  {
   "cell_type": "code",
   "execution_count": 105,
   "id": "58ff2eb6",
   "metadata": {},
   "outputs": [],
   "source": [
    "def compute_mi(cols):\n",
    "    cols[:, 0] *= 2\n",
    "    names, occurs = np.unique(np.sum(cols, axis=1), return_counts=True)\n",
    "    namelen = len(names)\n",
    "    # if only 2 marginals, variables must be independent so mutual information = 0\n",
    "    if namelen == 2:\n",
    "        return 0\n",
    "    \n",
    "    # Use small value alpha to substitute the 0-values\n",
    "    if namelen == 3:\n",
    "        occurs = np.insert(occurs.astype('float'), np.argmin(np.isin([0,1,2,3], names)),0.01)\n",
    "\n",
    "        \n",
    "    probs = np.log(occurs / sum(occurs))\n",
    "\n",
    "    \n",
    "    px0 = logsumexp([probs[0], probs[1]])\n",
    "    px1 = logsumexp([probs[2], probs[3]])\n",
    "    py0 = logsumexp([probs[0], probs[2]])\n",
    "    py1 = logsumexp([probs[1], probs[3]])\n",
    "\n",
    "    mi = np.exp(probs[0]) * (probs[0] - (px0+ py0)) + \\\n",
    "         np.exp(probs[1]) * (probs[1] - (px0+ py1)) + \\\n",
    "         np.exp(probs[2]) * (probs[2] - (px1+ py0)) + \\\n",
    "         np.exp(probs[3]) * (probs[3] - (px1+ py1))\n",
    "    \n",
    "    return np.log(mi)"
   ]
  },
  {
   "cell_type": "markdown",
   "id": "7d8403d2",
   "metadata": {},
   "source": [
    "# Calcs the probabilities"
   ]
  },
  {
   "cell_type": "code",
   "execution_count": 106,
   "id": "12911ba8",
   "metadata": {},
   "outputs": [],
   "source": [
    "def prob_col(col, val, alpha):\n",
    "    return np.log(2*alpha*len(col[col == val]))-np.log(4*alpha*len(col))\n",
    "\n",
    "\n",
    "def joint_prob_col(both_cols, val1, val2, alpha):\n",
    "    return np.log(alpha*len(both_cols[np.sum(both_cols == (val1, val2), axis=1) == 2]))-np.log(4*alpha*len(both_cols))\n",
    "\n",
    "\n",
    "def cond_prob_col(both_cols, vals, alpha):\n",
    "    return joint_prob_col(both_cols, vals[0], vals[1], alpha)-prob_col(both_cols[:, 0], vals[0], alpha)"
   ]
  },
  {
   "cell_type": "markdown",
   "id": "c82c2fd4",
   "metadata": {},
   "source": [
    "# The actual class"
   ]
  },
  {
   "cell_type": "code",
   "execution_count": 107,
   "id": "fd124b02",
   "metadata": {},
   "outputs": [],
   "source": [
    "class BinaryCLT:\n",
    "    def __init__(self, data, root: int = None, alpha: float = 0.01):\n",
    "        self.cols = data.shape[1]\n",
    "        self.data = data\n",
    "        self.root = root\n",
    "        self.alpha = alpha\n",
    "        self.tree = self.gettree()\n",
    "        self.pmfs = self.getlogparams()\n",
    "\n",
    "    def gettree(self):\n",
    "        # create the mutual information matrix\n",
    "        mi_matrix = np.array(\n",
    "            [[compute_mi(self.data[:, [i, j]]) if j > i else 0 for j in range(self.cols)] for i in range(self.cols)])\n",
    "        # invert the mutual information\n",
    "        # to get the maximum spanning tree by calculating the minimum spanning tree of the inverse\n",
    "        mi_matrix_inv = -mi_matrix\n",
    "        tree = mst(mi_matrix_inv)\n",
    "        # add connections to the tree in both directions\n",
    "        tree = tree.toarray().astype(float)\n",
    "        tree = tree.T + tree\n",
    "        if not self.root:\n",
    "            self.root = np.random.choice(range(0, self.cols))\n",
    "        clt = bfo(tree, self.root)\n",
    "        clt = clt[1]\n",
    "        clt[clt == -9999] = -1\n",
    "        return clt\n",
    "\n",
    "    def getlogparams(self):\n",
    "        pmfs = []\n",
    "        for i in range(self.cols):\n",
    "\n",
    "            if self.tree[i] == -1:\n",
    "                vals = [prob_col(self.data[:, i], j, self.alpha) for j in range(2)]\n",
    "                pmfs.append([[vals[0], vals[1]], [vals[0], vals[1]]])\n",
    "            else:\n",
    "                vals = [cond_prob_col(self.data[:, [i, self.tree[i]]], j, self.alpha) for j in\n",
    "                        [(0, 0), (0, 1), (1, 0), (1, 1)]]\n",
    "                pmfs.append([[vals[0], vals[1]], [vals[2], vals[3]]])\n",
    "        # multiply by 2 so every column adds up to 1\n",
    "        return pmfs + np.log(2)\n",
    "\n",
    "    # def logprob(self, x, exhaustive: bool = False):\n",
    "\n",
    "    # def sample(self, nsamples: int)"
   ]
  },
  {
   "cell_type": "markdown",
   "id": "23af8a29",
   "metadata": {},
   "source": [
    "# Runs the thing"
   ]
  },
  {
   "cell_type": "code",
   "execution_count": 108,
   "id": "dc924375",
   "metadata": {
    "scrolled": true
   },
   "outputs": [
    {
     "name": "stdout",
     "output_type": "stream",
     "text": [
      "[[[-0.15248733 -1.95594879]\n",
      "  [-1.43703145 -0.27132608]]\n",
      "\n",
      " [[-0.14665299 -1.99211664]\n",
      "  [-1.25232511 -0.33664743]]\n",
      "\n",
      " [[-0.26420763 -1.46021695]\n",
      "  [-0.26420763 -1.46021695]]\n",
      "\n",
      " [[-0.20355576 -1.69186732]\n",
      "  [-1.59337381 -0.22720022]]\n",
      "\n",
      " [[-0.06372132 -2.78492763]\n",
      "  [-1.11394298 -0.39788701]]\n",
      "\n",
      " [[-0.0860395  -2.49566009]\n",
      "  [-1.03002662 -0.4416066 ]]\n",
      "\n",
      " [[-0.10763256 -2.28236571]\n",
      "  [-0.92915381 -0.50234125]]\n",
      "\n",
      " [[-0.04676177 -3.08597915]\n",
      "  [-1.03893093 -0.43669691]]\n",
      "\n",
      " [[-0.10082742 -2.34433505]\n",
      "  [-1.86895965 -0.16757178]]\n",
      "\n",
      " [[-0.02595521 -3.66433251]\n",
      "  [-0.71373993 -0.67296995]]\n",
      "\n",
      " [[-0.13953996 -2.03836304]\n",
      "  [-1.22551868 -0.34758124]]\n",
      "\n",
      " [[-0.05226251 -2.97749336]\n",
      "  [-0.69399166 -0.69230342]]\n",
      "\n",
      " [[-0.10390755 -2.31575762]\n",
      "  [-1.11428943 -0.39771775]]\n",
      "\n",
      " [[-0.03786339 -3.29264247]\n",
      "  [-0.983091   -0.46864903]]\n",
      "\n",
      " [[-0.06691135 -2.73765578]\n",
      "  [-0.8765093  -0.53825391]]\n",
      "\n",
      " [[-0.13362015 -2.07882049]\n",
      "  [-2.34109767 -0.10117148]]]\n",
      "[ 2  6 -1  5 13  7  2  6  6  7 14 10  8 14 12 12]\n"
     ]
    }
   ],
   "source": [
    "with open('nltcs.train.data', 'r') as file:\n",
    "    reader = csv.reader(file, delimiter=',')\n",
    "    dataset = np.array(list(reader)).astype(int)\n",
    "mytree = BinaryCLT(dataset, 2)\n",
    "print(mytree.pmfs)\n",
    "print(mytree.tree)"
   ]
  }
 ],
 "metadata": {
  "kernelspec": {
   "display_name": "Python 3",
   "language": "python",
   "name": "python3"
  },
  "language_info": {
   "codemirror_mode": {
    "name": "ipython",
    "version": 3
   },
   "file_extension": ".py",
   "mimetype": "text/x-python",
   "name": "python",
   "nbconvert_exporter": "python",
   "pygments_lexer": "ipython3",
   "version": "3.8.8"
  }
 },
 "nbformat": 4,
 "nbformat_minor": 5
}
