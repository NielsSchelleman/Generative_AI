{
 "cells": [
  {
   "cell_type": "code",
   "execution_count": 3,
   "id": "2b26184e",
   "metadata": {},
   "outputs": [],
   "source": [
    "from scipy.sparse.csgraph import minimum_spanning_tree as mst\n",
    "from scipy.sparse.csgraph import breadth_first_order as bfo\n",
    "from scipy.special import logsumexp\n",
    "import numpy as np\n",
    "import csv"
   ]
  },
  {
   "cell_type": "markdown",
   "id": "a9024070",
   "metadata": {},
   "source": [
    "# Calcs mutual information"
   ]
  },
  {
   "cell_type": "code",
   "execution_count": 4,
   "id": "58ff2eb6",
   "metadata": {},
   "outputs": [],
   "source": [
    "def compute_mi(cols):\n",
    "    cols[:, 0] *= 2\n",
    "    names, occurs = np.unique(np.sum(cols, axis=1), return_counts=True)\n",
    "    namelen = len(names)\n",
    "    # if only 2 marginals, variables must be independent so mutual information = 0\n",
    "    if namelen == 2:\n",
    "        return 0\n",
    "    \n",
    "    # Use small value alpha to substitute the 0-values\n",
    "    if namelen == 3:\n",
    "        occurs = np.insert(occurs.astype('float'), np.argmin(np.isin([0,1,2,3], names)),0.01)\n",
    "\n",
    "        \n",
    "    probs = np.log(occurs / sum(occurs))\n",
    "\n",
    "    \n",
    "    px0 = logsumexp([probs[0], probs[1]])\n",
    "    px1 = logsumexp([probs[2], probs[3]])\n",
    "    py0 = logsumexp([probs[0], probs[2]])\n",
    "    py1 = logsumexp([probs[1], probs[3]])\n",
    "\n",
    "    mi = np.exp(probs[0]) * (probs[0] - (px0+ py0)) + \\\n",
    "         np.exp(probs[1]) * (probs[1] - (px0+ py1)) + \\\n",
    "         np.exp(probs[2]) * (probs[2] - (px1+ py0)) + \\\n",
    "         np.exp(probs[3]) * (probs[3] - (px1+ py1))\n",
    "    \n",
    "    return np.log(mi)"
   ]
  },
  {
   "cell_type": "markdown",
   "id": "7d8403d2",
   "metadata": {},
   "source": [
    "# Calcs the probabilities"
   ]
  },
  {
   "cell_type": "code",
   "execution_count": 5,
   "id": "12911ba8",
   "metadata": {},
   "outputs": [],
   "source": [
    "def prob_col(col, val, alpha):\n",
    "    return np.log(2*alpha*len(col[col == val]))-np.log(4*alpha*len(col))\n",
    "\n",
    "\n",
    "def joint_prob_col(both_cols, val1, val2, alpha):\n",
    "    return np.log(alpha*len(both_cols[np.sum(both_cols == (val1, val2), axis=1) == 2]))-np.log(4*alpha*len(both_cols))\n",
    "\n",
    "\n",
    "def cond_prob_col(both_cols, vals, alpha):\n",
    "    return joint_prob_col(both_cols, vals[0], vals[1], alpha)-prob_col(both_cols[:, 0], vals[0], alpha)"
   ]
  },
  {
   "cell_type": "markdown",
   "id": "c82c2fd4",
   "metadata": {},
   "source": [
    "# The actual class"
   ]
  },
  {
   "cell_type": "code",
   "execution_count": 6,
   "id": "fd124b02",
   "metadata": {},
   "outputs": [],
   "source": [
    "class BinaryCLT:\n",
    "    def __init__(self, data, root: int = None, alpha: float = 0.01):\n",
    "        self.cols = data.shape[1]\n",
    "        self.data = data\n",
    "        self.root = root\n",
    "        self.alpha = alpha\n",
    "        self.tree = self.gettree()\n",
    "        self.pmfs = self.getlogparams()\n",
    "\n",
    "    def gettree(self):\n",
    "        # create the mutual information matrix\n",
    "        mi_matrix = np.array(\n",
    "            [[compute_mi(self.data[:, [i, j]]) if j > i else 0 for j in range(self.cols)] for i in range(self.cols)])\n",
    "        # invert the mutual information\n",
    "        # to get the maximum spanning tree by calculating the minimum spanning tree of the inverse\n",
    "\n",
    "        tree = mst(-mi_matrix)\n",
    "        # add connections to the tree in both directions\n",
    "        tree = tree.toarray().astype(float)\n",
    "        tree = tree.T + tree\n",
    "        if not self.root:\n",
    "            self.root = np.random.choice(range(0, self.cols))\n",
    "        clt = bfo(tree, self.root)\n",
    "        clt = clt[1]\n",
    "        clt[clt == -9999] = -1\n",
    "        return clt\n",
    "\n",
    "    def getlogparams(self):\n",
    "        pmfs = []\n",
    "        for i in range(self.cols):\n",
    "\n",
    "            if self.tree[i] == -1:\n",
    "                vals = [prob_col(self.data[:, i], j, self.alpha) for j in range(2)]\n",
    "                pmfs.append([[vals[0], vals[1]], [vals[0], vals[1]]])\n",
    "            else:\n",
    "                vals = [cond_prob_col(self.data[:, [i, self.tree[i]]], j, self.alpha) for j in\n",
    "                        [(0, 0), (0, 1), (1, 0), (1, 1)]]\n",
    "                pmfs.append([[vals[0], vals[1]], [vals[2], vals[3]]])\n",
    "        # multiply by 2 so every column adds up to 1\n",
    "        return pmfs + np.log(2)\n",
    "\n",
    "    # def logprob(self, x, exhaustive: bool = False):\n",
    "\n",
    "    # def sample(self, nsamples: int)"
   ]
  },
  {
   "cell_type": "markdown",
   "id": "23af8a29",
   "metadata": {},
   "source": [
    "# Runs the thing"
   ]
  },
  {
   "cell_type": "code",
   "execution_count": 7,
   "id": "dc924375",
   "metadata": {
    "scrolled": true
   },
   "outputs": [
    {
     "name": "stdout",
     "output_type": "stream",
     "text": [
      "[[[-0.49047817 -0.94760991]\n",
      "  [-1.35016836 -0.30002003]]\n",
      "\n",
      " [[-0.18194533 -1.79364271]\n",
      "  [-0.80714178 -0.59082778]]\n",
      "\n",
      " [[-0.26420763 -1.46021695]\n",
      "  [-0.26420763 -1.46021695]]\n",
      "\n",
      " [[-0.12551216 -2.13745242]\n",
      "  [-0.48268729 -0.96004089]]\n",
      "\n",
      " [[-0.0732722  -2.6499864 ]\n",
      "  [-0.49430542 -0.9415943 ]]\n",
      "\n",
      " [[-0.10188142 -2.33445398]\n",
      "  [-0.52556476 -0.89458153]]\n",
      "\n",
      " [[-0.1470204  -1.98979365]\n",
      "  [-0.84007761 -0.56506539]]\n",
      "\n",
      " [[-0.12490777 -2.14198353]\n",
      "  [-0.66667151 -0.72034292]]\n",
      "\n",
      " [[-0.15454545 -1.94354478]\n",
      "  [-0.98797112 -0.46574286]]\n",
      "\n",
      " [[-0.05952958 -2.85089916]\n",
      "  [-0.41309193 -1.08353095]]\n",
      "\n",
      " [[-0.17299176 -1.8397606 ]\n",
      "  [-0.60530675 -0.78945313]]\n",
      "\n",
      " [[-0.08868607 -2.46666773]\n",
      "  [-0.46764288 -0.98477626]]\n",
      "\n",
      " [[-0.07772157 -2.59323152]\n",
      "  [-0.54521209 -0.8668313 ]]\n",
      "\n",
      " [[-0.03786339 -3.29264247]\n",
      "  [-0.983091   -0.46864903]]\n",
      "\n",
      " [[-0.14607542 -1.99578101]\n",
      "  [-0.87977372 -0.53593282]]\n",
      "\n",
      " [[-0.22328162 -1.60888585]\n",
      "  [-2.29904944 -0.10575414]]]\n",
      "[11 10 -1 10 10 10 10 10 10 10  2  1  0 14  6 14]\n"
     ]
    }
   ],
   "source": [
    "with open('nltcs.train.data', 'r') as file:\n",
    "    reader = csv.reader(file, delimiter=',')\n",
    "    dataset = np.array(list(reader)).astype(int)\n",
    "mytree = BinaryCLT(dataset, 2)\n",
    "print(mytree.pmfs)\n",
    "print(mytree.tree)"
   ]
  },
  {
   "cell_type": "code",
   "execution_count": null,
   "id": "ca514a44",
   "metadata": {},
   "outputs": [],
   "source": []
  }
 ],
 "metadata": {
  "kernelspec": {
   "display_name": "Python 3",
   "language": "python",
   "name": "python3"
  },
  "language_info": {
   "codemirror_mode": {
    "name": "ipython",
    "version": 3
   },
   "file_extension": ".py",
   "mimetype": "text/x-python",
   "name": "python",
   "nbconvert_exporter": "python",
   "pygments_lexer": "ipython3",
   "version": "3.8.8"
  }
 },
 "nbformat": 4,
 "nbformat_minor": 5
}
